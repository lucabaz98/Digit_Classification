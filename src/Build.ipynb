{
 "cells": [
  {
   "cell_type": "code",
   "execution_count": 1,
   "metadata": {},
   "outputs": [],
   "source": [
    "from keras import models, layers, regularizers, Model, callbacks"
   ]
  },
  {
   "cell_type": "markdown",
   "metadata": {},
   "source": [
    "# First model\n",
    "- Input layer 28,28\n",
    "    - 1 Dense laver with 200 neurons, relu activation function, l2 regularization with 0.01, xavier initialization\n",
    "    - 1 layer of BatchNormalization\n",
    "    - 1 Dense laver with 150 neurons, relu activation function, l2 regularization with 0.01, xavier initialization\n",
    "    - 1 layer of BatchNormalization\n",
    "    - 1 Dense laver with 100 neurons, relu activation function, l2 regularization with 0.01, xavier initialization\n",
    "    - 1 layer of BatchNormalization\n",
    "    - 1 Dense laver with 50 neurons, relu activation function, l2 regularization with 0.01, xavier initialization\n",
    "    - 1 layer of BatchNormalization\n",
    "    - 1 Dense laver with 25 neurons, relu activation function, l2 regularization with 0.01, xavier initialization\n",
    "- Last layer with 10 neurons and softmax activation function"
   ]
  },
  {
   "cell_type": "code",
   "execution_count": null,
   "metadata": {},
   "outputs": [],
   "source": [
    "model1 = models.Sequential()\n",
    "\n",
    "# Input layer\n",
    "model1.add(layers.Flatten(input_shape=(28, 28))) # Flatten the 28x28 input\n",
    "\n",
    "\n",
    "model1.add(layers.Dense(200, activation='relu', kernel_regularizer=regularizers.l2(0.01), kernel_initializer='xavier_uniform'))\n",
    "model1.add(layers.BatchNormalization())\n",
    "\n",
    "model1.add(layers.Dense(150, activation='relu', kernel_regularizer=regularizers.l2(0.01), kernel_initializer='xavier_uniform'))\n",
    "model1.add(layers.BatchNormalization())\n",
    "\n",
    "model1.add(layers.Dense(100, activation='relu', kernel_regularizer=regularizers.l2(0.01), kernel_initializer='xavier_uniform'))\n",
    "model1.add(layers.BatchNormalization())\n",
    "\n",
    "model1.add(layers.Dense(50, activation='relu', kernel_regularizer=regularizers.l2(0.01), kernel_initializer='xavier_uniform'))\n",
    "model1.add(layers.BatchNormalization())\n",
    "\n",
    "model1.add(layers.Dense(25, activation='relu', kernel_regularizer=regularizers.l2(0.01), kernel_initializer='xavier_uniform'))\n",
    "model1.add(layers.BatchNormalization())\n",
    "\n",
    "# Output layer\n",
    "model1.add(layers.Dense(10, activation='softmax'))\n",
    "\n",
    "model1_info = Model(inputs=model1.input, outputs=model1.output, name=model1.name)\n",
    "\n",
    "model1.compile(optimizer=\"adam\", loss=\"categorical_crossentropy\", metrics=[\"accuracy\"])"
   ]
  },
  {
   "cell_type": "markdown",
   "metadata": {},
   "source": [
    "- Epochs: 100\n",
    "- Batch size: 32"
   ]
  },
  {
   "cell_type": "markdown",
   "metadata": {},
   "source": [
    "Fit the model"
   ]
  },
  {
   "cell_type": "code",
   "execution_count": null,
   "metadata": {},
   "outputs": [],
   "source": [
    "history1 = model1.fit(\n",
    "    train_images, \n",
    "    train_labels, \n",
    "    epochs=100, \n",
    "    batch_size=32,\n",
    "    callbacks= callbacks.EarlyStopping(monitor = 'loss', patience = 3),\n",
    "    verbose=0)\n",
    "model1.save('/results/models/' + model1.name +'.h5')"
   ]
  },
  {
   "cell_type": "markdown",
   "metadata": {},
   "source": [
    "Accuracy"
   ]
  },
  {
   "cell_type": "code",
   "execution_count": 2,
   "metadata": {},
   "outputs": [
    {
     "ename": "NameError",
     "evalue": "name 'model' is not defined",
     "output_type": "error",
     "traceback": [
      "\u001b[0;31m---------------------------------------------------------------------------\u001b[0m",
      "\u001b[0;31mNameError\u001b[0m                                 Traceback (most recent call last)",
      "Cell \u001b[0;32mIn[2], line 1\u001b[0m\n\u001b[0;32m----> 1\u001b[0m accuracy \u001b[38;5;241m=\u001b[39m \u001b[43mmodel\u001b[49m\u001b[38;5;241m.\u001b[39mevaluate(x_test, y_test)\n",
      "\u001b[0;31mNameError\u001b[0m: name 'model' is not defined"
     ]
    }
   ],
   "source": [
    "accuracy = model1.evaluate(test_images, test_labels, verbose=0)"
   ]
  },
  {
   "cell_type": "code",
   "execution_count": null,
   "metadata": {},
   "outputs": [],
   "source": [
    "# TODO: Check model1_info for the model architecture\n",
    "\n",
    "with open('/results/accuracy.csv', 'a') as f:\n",
    "    f.write(model1.name + ',' + str(accuracy[1]) + '\\n')"
   ]
  }
 ],
 "metadata": {
  "kernelspec": {
   "display_name": "base",
   "language": "python",
   "name": "python3"
  },
  "language_info": {
   "codemirror_mode": {
    "name": "ipython",
    "version": 3
   },
   "file_extension": ".py",
   "mimetype": "text/x-python",
   "name": "python",
   "nbconvert_exporter": "python",
   "pygments_lexer": "ipython3",
   "version": "3.11.7"
  }
 },
 "nbformat": 4,
 "nbformat_minor": 2
}
