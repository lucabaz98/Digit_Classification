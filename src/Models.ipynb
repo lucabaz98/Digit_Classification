{
 "cells": [
  {
   "cell_type": "code",
   "execution_count": null,
   "metadata": {},
   "outputs": [],
   "source": [
    "%load_ext autoreload\n",
    "%autoreload 2"
   ]
  },
  {
   "cell_type": "code",
   "execution_count": 78,
   "metadata": {},
   "outputs": [],
   "source": [
    "import pandas as pd\n",
    "from keras import models, layers, regularizers\n",
    "from sklearn.model_selection import train_test_split\n",
    "from keras.utils import to_categorical\n",
    "import utils\n",
    "import os\n",
    "\n",
    "main_dir =  os.path.join(os.path.dirname(os.getcwd()))"
   ]
  },
  {
   "cell_type": "code",
   "execution_count": 3,
   "metadata": {},
   "outputs": [],
   "source": [
    "df = pd.read_csv('../data/dataset.csv')"
   ]
  },
  {
   "cell_type": "code",
   "execution_count": 37,
   "metadata": {},
   "outputs": [],
   "source": [
    "label = to_categorical(df['label'], num_classes = 10)\n",
    "df.drop(labels = [\"label\"],axis = 1, inplace = True) "
   ]
  },
  {
   "cell_type": "code",
   "execution_count": 54,
   "metadata": {},
   "outputs": [],
   "source": [
    "X_train, X_test, y_train, y_test = train_test_split(df, label, test_size = 0.2)"
   ]
  },
  {
   "cell_type": "markdown",
   "metadata": {},
   "source": [
    "Model 1\n",
    "-   200 neurons, activation function: ReLU, l2 regularization: 0.01, initializer: HeNormal\n",
    "-   150 neurons, activation function: ReLU, l2 regularization: 0.01, initializer: HeNormal\n",
    "-   100 neurons, activation function: ReLU, l2 regularization: 0.01, initializer: HeNormal\n",
    "-    50 neurons, activation function: ReLU, l2 regularization: 0.01, initializer: HeNormal\n",
    "-    25 neurons, activation function: ReLU, l2 regularization: 0.01, initializer: HeNormal\n"
   ]
  },
  {
   "cell_type": "code",
   "execution_count": null,
   "metadata": {},
   "outputs": [
    {
     "name": "stderr",
     "output_type": "stream",
     "text": [
      "/Users/luca/miniconda3/lib/python3.11/site-packages/keras/src/layers/reshaping/flatten.py:37: UserWarning: Do not pass an `input_shape`/`input_dim` argument to a layer. When using Sequential models, prefer using an `Input(shape)` object as the first layer in the model instead.\n",
      "  super().__init__(**kwargs)\n"
     ]
    }
   ],
   "source": [
    "modelname = 'model1'\n",
    "optimizer = 'adam'\n",
    "epochs = 10\n",
    "batch_size = 32\n",
    "\n",
    "model = models.Sequential()\n",
    "\n",
    "# Input layer\n",
    "model.add(layers.Flatten(input_shape=(784,)))\n",
    "\n",
    "model.add(layers.Dense(200, activation='relu', kernel_regularizer=regularizers.l2(0.01), kernel_initializer='HeNormal'))\n",
    "model.add(layers.BatchNormalization())\n",
    "\n",
    "model.add(layers.Dense(150, activation='relu', kernel_regularizer=regularizers.l2(0.01), kernel_initializer='HeNormal'))\n",
    "model.add(layers.BatchNormalization())\n",
    "\n",
    "model.add(layers.Dense(100, activation='relu', kernel_regularizer=regularizers.l2(0.01), kernel_initializer='HeNormal'))\n",
    "model.add(layers.BatchNormalization())\n",
    "\n",
    "model.add(layers.Dense(50, activation='relu', kernel_regularizer=regularizers.l2(0.01), kernel_initializer='HeNormal'))\n",
    "model.add(layers.BatchNormalization())\n",
    "\n",
    "model.add(layers.Dense(25, activation='relu', kernel_regularizer=regularizers.l2(0.01), kernel_initializer='HeNormal'))\n",
    "model.add(layers.BatchNormalization())\n",
    "\n",
    "# Output layer\n",
    "model.add(layers.Dense(10, activation='softmax'))"
   ]
  },
  {
   "cell_type": "code",
   "execution_count": 55,
   "metadata": {},
   "outputs": [],
   "source": [
    "utils.compileModel(model, optimizer=optimizer)\n",
    "history = utils.fitModel(model, X_train, y_train, X_test, y_test, epochs=epochs, batch_size=batch_size)\n",
    "\n",
    "utils.saveModel(model, '{main_dir}/models', modelname)\n",
    "utils.plot_history(history, '{main_dir}/results/plots', modelname)"
   ]
  },
  {
   "cell_type": "code",
   "execution_count": 153,
   "metadata": {},
   "outputs": [],
   "source": [
    "model_info = {}\n",
    "model_info[0] = {\n",
    "    'model_name': modelname,\n",
    "    'num_layers': len(model.layers),\n",
    "    'epochs': epochs,\n",
    "    'batch_size': batch_size,\n",
    "    'optimizer': optimizer,\n",
    "    'accuracy': round(history.history['accuracy'][-1],4),\n",
    "    'val_accuracy': round(history.history['val_accuracy'][-1],4),\n",
    "    'Regularizer': 'l2',\n",
    "    'Regularizer_value': 0.01,\n",
    "    'Initializer': 'HeNormal'\n",
    "}\n",
    "\n",
    "pd.DataFrame.from_dict(model_info, orient='index').to_csv(f'{main_dir}/results/models_info.csv', header=True)\n",
    "  "
   ]
  },
  {
   "cell_type": "code",
   "execution_count": 154,
   "metadata": {},
   "outputs": [
    {
     "data": {
      "text/plain": [
       "{0: {'model_name': 'model1',\n",
       "  'num_layers': 12,\n",
       "  'epochs': 10,\n",
       "  'batch_size': 32,\n",
       "  'optimizer': 'adam',\n",
       "  'accuracy': 0.9681,\n",
       "  'val_accuracy': 0.9649,\n",
       "  'Regularizer': 'l2',\n",
       "  'Regularizer_value': 0.01,\n",
       "  'Initializer': 'HeNormal'}}"
      ]
     },
     "execution_count": 154,
     "metadata": {},
     "output_type": "execute_result"
    }
   ],
   "source": [
    "model_info"
   ]
  }
 ],
 "metadata": {
  "kernelspec": {
   "display_name": "base",
   "language": "python",
   "name": "python3"
  },
  "language_info": {
   "codemirror_mode": {
    "name": "ipython",
    "version": 3
   },
   "file_extension": ".py",
   "mimetype": "text/x-python",
   "name": "python",
   "nbconvert_exporter": "python",
   "pygments_lexer": "ipython3",
   "version": "3.11.7"
  }
 },
 "nbformat": 4,
 "nbformat_minor": 2
}
