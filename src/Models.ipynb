{
 "cells": [
  {
   "cell_type": "code",
   "execution_count": 1,
   "metadata": {},
   "outputs": [],
   "source": [
    "%load_ext autoreload\n",
    "%autoreload 2"
   ]
  },
  {
   "cell_type": "code",
   "execution_count": 2,
   "metadata": {},
   "outputs": [],
   "source": [
    "import pandas as pd\n",
    "import numpy as np\n",
    "from keras import models, layers, regularizers\n",
    "from sklearn.model_selection import train_test_split\n",
    "import utils\n",
    "import os\n",
    "\n",
    "main_dir =  os.path.join(os.path.dirname(os.getcwd()))"
   ]
  },
  {
   "cell_type": "code",
   "execution_count": 3,
   "metadata": {},
   "outputs": [],
   "source": [
    "df = pd.read_csv(f'{main_dir}/data/dataset.csv')\n",
    "X_train, X_test, y_train, y_test = train_test_split(df.iloc[:, 1:], df['label'], test_size = 0.2, random_state=1)\n",
    "y_train = utils.one_hot_encoding(y_train, 10)\n",
    "y_test = utils.one_hot_encoding(y_test, 10)\n",
    "X_train = utils.preprocessing(X_train.values)\n",
    "X_test = utils.preprocessing(X_test.values)"
   ]
  },
  {
   "cell_type": "markdown",
   "metadata": {},
   "source": [
    "## Model 1\n",
    "\n",
    "This model has 5 dense hidden layers. The number of neurons in each layer is as follows:\n",
    "\n",
    "*   Hidden Layer 1: 256 neurons\n",
    "*   Hidden Layer 2: 128 neurons\n",
    "*   Hidden Layer 3: 64 neurons\n",
    "*   Hidden Layer 4: 32 neurons\n",
    "*   Hidden Layer 5: 16 neurons\n",
    "\n",
    "All hidden layers use the ReLU activation function and have L2 regularization with a value of 0.01. The model is trained using the Adam optimizer with a batch size of 32 and 10 epochs."
   ]
  },
  {
   "cell_type": "code",
   "execution_count": 4,
   "metadata": {},
   "outputs": [
    {
     "name": "stderr",
     "output_type": "stream",
     "text": [
      "/Users/luca/miniconda3/lib/python3.11/site-packages/keras/src/layers/reshaping/flatten.py:37: UserWarning: Do not pass an `input_shape`/`input_dim` argument to a layer. When using Sequential models, prefer using an `Input(shape)` object as the first layer in the model instead.\n",
      "  super().__init__(**kwargs)\n"
     ]
    }
   ],
   "source": [
    "modelname = 'model1'\n",
    "\n",
    "# Hyperparameters\n",
    "optimizer = 'adam'\n",
    "epochs = 10\n",
    "batch_size = 32\n",
    "regularizer = \"l2\"\n",
    "regularizer_value = 0.01\n",
    "initializer = 'he_normal'\n",
    "activation = 'relu'\n",
    "\n",
    "model = models.Sequential()\n",
    "\n",
    "# Input layer\n",
    "model.add(layers.Flatten(input_shape=(784,)))\n",
    "\n",
    "model.add(layers.Dense(256, activation=activation, kernel_regularizer=getattr(regularizers, regularizer)(regularizer_value), kernel_initializer=initializer))\n",
    "model.add(layers.Dense(128, activation=activation, kernel_regularizer=getattr(regularizers, regularizer)(regularizer_value), kernel_initializer=initializer))\n",
    "model.add(layers.Dense(64, activation=activation, kernel_regularizer=getattr(regularizers, regularizer)(regularizer_value), kernel_initializer=initializer))\n",
    "model.add(layers.Dense(32, activation=activation, kernel_regularizer=getattr(regularizers, regularizer)(regularizer_value), kernel_initializer=initializer))\n",
    "model.add(layers.Dense(16, activation=activation, kernel_regularizer=getattr(regularizers, regularizer)(regularizer_value), kernel_initializer=initializer))\n",
    "\n",
    "# Output layer\n",
    "model.add(layers.Dense(10, activation='softmax'))\n",
    "\n",
    "utils.run_model(model, modelname, X_train, y_train, X_test, y_test, optimizer, epochs, batch_size, activation, regularizer, regularizer_value, initializer)"
   ]
  },
  {
   "cell_type": "markdown",
   "metadata": {},
   "source": [
    "Model 1 has good performance even with a small number of epochs."
   ]
  },
  {
   "cell_type": "markdown",
   "metadata": {},
   "source": [
    "## Model 2\n",
    "\n",
    "This model has the same architecture as Model 1, but all hidden layers have 256 neurons. It is also trained using the Adam optimizer with a batch size of 32 and 10 epochs.\n"
   ]
  },
  {
   "cell_type": "code",
   "execution_count": 5,
   "metadata": {},
   "outputs": [],
   "source": [
    "modelname = 'model2'\n",
    "\n",
    "# Hyperparameters\n",
    "optimizer = 'adam'\n",
    "epochs = 10\n",
    "batch_size = 32\n",
    "regularizer = \"l2\"\n",
    "regularizer_value = 0.01\n",
    "initializer = 'he_normal'\n",
    "activation = 'relu'\n",
    "\n",
    "model = models.Sequential()\n",
    "\n",
    "# Input layer\n",
    "model.add(layers.Flatten(input_shape=(784,)))\n",
    "\n",
    "model.add(layers.Dense(256, activation=activation, kernel_regularizer=getattr(regularizers, regularizer)(regularizer_value), kernel_initializer=initializer))\n",
    "model.add(layers.Dense(256, activation=activation, kernel_regularizer=getattr(regularizers, regularizer)(regularizer_value), kernel_initializer=initializer))\n",
    "model.add(layers.Dense(256, activation=activation, kernel_regularizer=getattr(regularizers, regularizer)(regularizer_value), kernel_initializer=initializer))\n",
    "model.add(layers.Dense(256, activation=activation, kernel_regularizer=getattr(regularizers, regularizer)(regularizer_value), kernel_initializer=initializer))\n",
    "model.add(layers.Dense(256, activation=activation, kernel_regularizer=getattr(regularizers, regularizer)(regularizer_value), kernel_initializer=initializer))\n",
    "\n",
    "# Output layer\n",
    "model.add(layers.Dense(10, activation='softmax'))"
   ]
  },
  {
   "cell_type": "code",
   "execution_count": 6,
   "metadata": {},
   "outputs": [],
   "source": [
    "utils.run_model(model, modelname, X_train, y_train, X_test, y_test, optimizer, epochs, batch_size, activation, regularizer, regularizer_value, initializer)"
   ]
  },
  {
   "cell_type": "markdown",
   "metadata": {},
   "source": [
    "In the Model 2 the accuracy and loss are better, more neurons give better results."
   ]
  },
  {
   "cell_type": "markdown",
   "metadata": {},
   "source": [
    "## Model 3\n",
    "This model has the same architecture and hyperparameters as Model 1, but it uses L1 regularization instead of L2 regularization.\n"
   ]
  },
  {
   "cell_type": "code",
   "execution_count": 7,
   "metadata": {},
   "outputs": [],
   "source": [
    "modelname = 'model3'\n",
    "\n",
    "# Hyperparameters\n",
    "optimizer = 'adam'\n",
    "epochs = 10\n",
    "batch_size = 32\n",
    "regularizer = \"l1\"\n",
    "regularizer_value = 0.01\n",
    "initializer = 'he_normal'\n",
    "activation = 'relu'\n",
    "\n",
    "model = models.Sequential()\n",
    "\n",
    "# Input layer\n",
    "model.add(layers.Flatten(input_shape=(784,)))\n",
    "\n",
    "model.add(layers.Dense(256, activation=activation, kernel_regularizer=getattr(regularizers, regularizer)(regularizer_value), kernel_initializer=initializer))\n",
    "model.add(layers.Dense(128, activation=activation, kernel_regularizer=getattr(regularizers, regularizer)(regularizer_value), kernel_initializer=initializer))\n",
    "model.add(layers.Dense(64, activation=activation, kernel_regularizer=getattr(regularizers, regularizer)(regularizer_value), kernel_initializer=initializer))\n",
    "model.add(layers.Dense(32, activation=activation, kernel_regularizer=getattr(regularizers, regularizer)(regularizer_value), kernel_initializer=initializer))\n",
    "model.add(layers.Dense(16, activation=activation, kernel_regularizer=getattr(regularizers, regularizer)(regularizer_value), kernel_initializer=initializer))\n",
    "\n",
    "# Output layer\n",
    "model.add(layers.Dense(10, activation='softmax'))\n",
    "\n",
    "utils.run_model(model, modelname, X_train, y_train, X_test, y_test, optimizer, epochs, batch_size, activation, regularizer, regularizer_value, initializer)"
   ]
  },
  {
   "cell_type": "markdown",
   "metadata": {},
   "source": [
    "From the model 3, using the l1 regularization, we get a worse performance than the model 1."
   ]
  },
  {
   "cell_type": "markdown",
   "metadata": {},
   "source": [
    "## Model 4\n",
    "This model has the same architecture and hyperparameters as Model 1, but it uses L1L2 regularization instead of L2 regularization.\n",
    "\n"
   ]
  },
  {
   "cell_type": "code",
   "execution_count": 8,
   "metadata": {},
   "outputs": [],
   "source": [
    "modelname = 'model4'\n",
    "\n",
    "# Hyperparameters\n",
    "optimizer = 'adam'\n",
    "epochs = 10\n",
    "batch_size = 32\n",
    "regularizer = \"l1_l2\"\n",
    "regularizer_value = 0.01\n",
    "initializer = 'he_normal'\n",
    "activation = 'relu'\n",
    "\n",
    "model = models.Sequential()\n",
    "\n",
    "# Input layer\n",
    "model.add(layers.Flatten(input_shape=(784,)))\n",
    "\n",
    "model.add(layers.Dense(256, activation=activation, kernel_regularizer=getattr(regularizers, regularizer)(regularizer_value), kernel_initializer=initializer))\n",
    "model.add(layers.Dense(128, activation=activation, kernel_regularizer=getattr(regularizers, regularizer)(regularizer_value), kernel_initializer=initializer))\n",
    "model.add(layers.Dense(64, activation=activation, kernel_regularizer=getattr(regularizers, regularizer)(regularizer_value), kernel_initializer=initializer))\n",
    "model.add(layers.Dense(32, activation=activation, kernel_regularizer=getattr(regularizers, regularizer)(regularizer_value), kernel_initializer=initializer))\n",
    "model.add(layers.Dense(16, activation=activation, kernel_regularizer=getattr(regularizers, regularizer)(regularizer_value), kernel_initializer=initializer))\n",
    "\n",
    "# Output layer\n",
    "model.add(layers.Dense(10, activation='softmax'))\n",
    "\n",
    "utils.run_model(model, modelname, X_train, y_train, X_test, y_test, optimizer, epochs, batch_size, activation, regularizer, regularizer_value, initializer)"
   ]
  },
  {
   "cell_type": "markdown",
   "metadata": {},
   "source": [
    "## Model 5\n",
    "This model has the same architecture as Model 1, but with fewer layers and neurons per layer. It is trained using the Adam optimizer with an increased number of epochs (30) and a larger batch size (64). Additionally, the regularization value is increased to 0.1.\n"
   ]
  },
  {
   "cell_type": "code",
   "execution_count": 9,
   "metadata": {},
   "outputs": [],
   "source": [
    "modelname = 'model5'\n",
    "\n",
    "# Hyperparameters\n",
    "optimizer = 'adam'\n",
    "epochs = 30\n",
    "batch_size = 64\n",
    "regularizer = \"l2\"\n",
    "regularizer_value = 0.1\n",
    "initializer = 'he_normal'\n",
    "activation = 'relu'\n",
    "\n",
    "model = models.Sequential()\n",
    "\n",
    "# Input layer\n",
    "model.add(layers.Flatten(input_shape=(784,)))\n",
    "\n",
    "model.add(layers.Dense(64, activation=activation, kernel_regularizer=getattr(regularizers, regularizer)(regularizer_value), kernel_initializer=initializer))\n",
    "model.add(layers.Dense(32, activation=activation, kernel_regularizer=getattr(regularizers, regularizer)(regularizer_value), kernel_initializer=initializer))\n",
    "model.add(layers.Dense(16, activation=activation, kernel_regularizer=getattr(regularizers, regularizer)(regularizer_value), kernel_initializer=initializer))\n",
    "\n",
    "# Output layer\n",
    "model.add(layers.Dense(10, activation='softmax'))\n",
    "\n",
    "utils.run_model(model, modelname, X_train, y_train, X_test, y_test, optimizer, epochs, batch_size, activation, regularizer, regularizer_value, initializer)"
   ]
  },
  {
   "cell_type": "markdown",
   "metadata": {},
   "source": [
    "## Model 6\n",
    "This model has the same architecture and hyperparameters as Model 5, but the regularization value is decreased to 0.001.\n"
   ]
  },
  {
   "cell_type": "code",
   "execution_count": 10,
   "metadata": {},
   "outputs": [],
   "source": [
    "modelname = 'model6'\n",
    "\n",
    "# Hyperparameters\n",
    "optimizer = 'adam'\n",
    "epochs = 30\n",
    "batch_size = 64\n",
    "regularizer = \"l2\"\n",
    "regularizer_value = 0.001\n",
    "initializer = 'he_normal'\n",
    "activation = 'relu'\n",
    "\n",
    "model = models.Sequential()\n",
    "\n",
    "# Input layer\n",
    "model.add(layers.Flatten(input_shape=(784,)))\n",
    "\n",
    "model.add(layers.Dense(64, activation=activation, kernel_regularizer=getattr(regularizers, regularizer)(regularizer_value), kernel_initializer=initializer))\n",
    "model.add(layers.Dense(32, activation=activation, kernel_regularizer=getattr(regularizers, regularizer)(regularizer_value), kernel_initializer=initializer))\n",
    "model.add(layers.Dense(16, activation=activation, kernel_regularizer=getattr(regularizers, regularizer)(regularizer_value), kernel_initializer=initializer))\n",
    "\n",
    "# Output layer\n",
    "model.add(layers.Dense(10, activation='softmax'))\n",
    "\n",
    "utils.run_model(model, modelname, X_train, y_train, X_test, y_test, optimizer, epochs, batch_size, activation, regularizer, regularizer_value, initializer)"
   ]
  },
  {
   "cell_type": "markdown",
   "metadata": {},
   "source": [
    "The regularization value plays an important role in the performance of the model."
   ]
  },
  {
   "cell_type": "markdown",
   "metadata": {},
   "source": [
    "## Model 13\n",
    "This model use batch normalization after each dense layer.\n"
   ]
  },
  {
   "cell_type": "code",
   "execution_count": 11,
   "metadata": {},
   "outputs": [],
   "source": [
    "modelname = 'model13'\n",
    "\n",
    "# Hyperparameters\n",
    "optimizer = 'adam'\n",
    "epochs = 30\n",
    "batch_size = 128\n",
    "regularizer = \"l2\"\n",
    "regularizer_value = 0.01\n",
    "initializer = 'he_normal'\n",
    "activation = 'relu'\n",
    "\n",
    "model = models.Sequential()\n",
    "\n",
    "# Input layer\n",
    "model.add(layers.Flatten(input_shape=(784,)))\n",
    "\n",
    "model.add(layers.Dense(128, activation=activation, kernel_regularizer=getattr(regularizers, regularizer)(regularizer_value), kernel_initializer=initializer))\n",
    "model.add(layers.BatchNormalization())\n",
    "model.add(layers.Dense(64, activation=activation, kernel_regularizer=getattr(regularizers, regularizer)(regularizer_value), kernel_initializer=initializer))\n",
    "model.add(layers.BatchNormalization())\n",
    "model.add(layers.Dense(32, activation=activation, kernel_regularizer=getattr(regularizers, regularizer)(regularizer_value), kernel_initializer=initializer))\n",
    "model.add(layers.BatchNormalization())\n",
    "model.add(layers.Dense(16, activation=activation, kernel_regularizer=getattr(regularizers, regularizer)(regularizer_value), kernel_initializer=initializer))\n",
    "\n",
    "# Output layer\n",
    "model.add(layers.Dense(10, activation='softmax'))\n",
    "\n",
    "utils.run_model(model, modelname, X_train, y_train, X_test, y_test, optimizer, epochs, batch_size, activation, regularizer, regularizer_value, initializer)"
   ]
  },
  {
   "cell_type": "markdown",
   "metadata": {},
   "source": [
    "The batchnormalization improves the performance of the model with an high batch size."
   ]
  },
  {
   "cell_type": "markdown",
   "metadata": {},
   "source": [
    "## Model 7 \n",
    "This model has the same architecture as Model 5, but it uses the tanh activation function instead of ReLU, and the initializer is changed to 'lecun\\_normal'.\n"
   ]
  },
  {
   "cell_type": "code",
   "execution_count": 12,
   "metadata": {},
   "outputs": [],
   "source": [
    "modelname = 'model7'\n",
    "\n",
    "# Hyperparameters\n",
    "optimizer = 'adam'\n",
    "epochs = 30\n",
    "batch_size = 64\n",
    "regularizer = \"l2\"\n",
    "regularizer_value = 0.01\n",
    "initializer = 'lecun_normal'\n",
    "activation = 'tanh'\n",
    "\n",
    "model = models.Sequential()\n",
    "\n",
    "# Input layer\n",
    "model.add(layers.Flatten(input_shape=(784,)))\n",
    "\n",
    "model.add(layers.Dense(64, activation=activation, kernel_regularizer=getattr(regularizers, regularizer)(regularizer_value), kernel_initializer=initializer))\n",
    "model.add(layers.Dense(32, activation=activation, kernel_regularizer=getattr(regularizers, regularizer)(regularizer_value), kernel_initializer=initializer))\n",
    "model.add(layers.Dense(16, activation=activation, kernel_regularizer=getattr(regularizers, regularizer)(regularizer_value), kernel_initializer=initializer))\n",
    "\n",
    "# Output layer\n",
    "model.add(layers.Dense(10, activation='softmax'))\n",
    "\n",
    "utils.run_model(model, modelname, X_train, y_train, X_test, y_test, optimizer, epochs, batch_size, activation, regularizer, regularizer_value, initializer)"
   ]
  },
  {
   "cell_type": "markdown",
   "metadata": {},
   "source": [
    "## Model 8\n",
    "This model has the same architecture and hyperparameters as Model 7, but it uses the 'lecun\\_uniform' initializer instead of 'lecun\\_normal'.\n"
   ]
  },
  {
   "cell_type": "code",
   "execution_count": 13,
   "metadata": {},
   "outputs": [],
   "source": [
    "modelname = 'model8'\n",
    "\n",
    "# Hyperparameters\n",
    "optimizer = 'adam'\n",
    "epochs = 30\n",
    "batch_size = 64\n",
    "regularizer = \"l2\"\n",
    "regularizer_value = 0.01\n",
    "initializer = 'lecun_uniform'\n",
    "activation = 'tanh'\n",
    "\n",
    "model = models.Sequential()\n",
    "\n",
    "# Input layer\n",
    "model.add(layers.Flatten(input_shape=(784,)))\n",
    "\n",
    "model.add(layers.Dense(64, activation=activation, kernel_regularizer=getattr(regularizers, regularizer)(regularizer_value), kernel_initializer=initializer))\n",
    "model.add(layers.Dense(32, activation=activation, kernel_regularizer=getattr(regularizers, regularizer)(regularizer_value), kernel_initializer=initializer))\n",
    "model.add(layers.Dense(16, activation=activation, kernel_regularizer=getattr(regularizers, regularizer)(regularizer_value), kernel_initializer=initializer))\n",
    "\n",
    "# Output layer\n",
    "model.add(layers.Dense(10, activation='softmax'))\n",
    "\n",
    "utils.run_model(model, modelname, X_train, y_train, X_test, y_test, optimizer, epochs, batch_size, activation, regularizer, regularizer_value, initializer)"
   ]
  },
  {
   "cell_type": "markdown",
   "metadata": {},
   "source": [
    "## Model 9"
   ]
  },
  {
   "cell_type": "markdown",
   "metadata": {},
   "source": [
    "This model has the same architecture as Model 5, but it uses 7 dense hidden layers instead of 3.\n"
   ]
  },
  {
   "cell_type": "code",
   "execution_count": 14,
   "metadata": {},
   "outputs": [],
   "source": [
    "modelname = 'model9'\n",
    "\n",
    "# Hyperparameters\n",
    "optimizer = 'adam'\n",
    "epochs = 30\n",
    "batch_size = 64\n",
    "regularizer = \"l2\"\n",
    "regularizer_value = 0.1\n",
    "initializer = 'he_normal'\n",
    "activation = 'relu'\n",
    "\n",
    "model = models.Sequential()\n",
    "\n",
    "# Input layer\n",
    "model.add(layers.Flatten(input_shape=(784,)))\n",
    "\n",
    "model.add(layers.Dense(32, activation=activation, kernel_regularizer=getattr(regularizers, regularizer)(regularizer_value), kernel_initializer=initializer))\n",
    "model.add(layers.Dense(32, activation=activation, kernel_regularizer=getattr(regularizers, regularizer)(regularizer_value), kernel_initializer=initializer))\n",
    "model.add(layers.Dense(32, activation=activation, kernel_regularizer=getattr(regularizers, regularizer)(regularizer_value), kernel_initializer=initializer))\n",
    "model.add(layers.Dense(32, activation=activation, kernel_regularizer=getattr(regularizers, regularizer)(regularizer_value), kernel_initializer=initializer))\n",
    "model.add(layers.Dense(32, activation=activation, kernel_regularizer=getattr(regularizers, regularizer)(regularizer_value), kernel_initializer=initializer))\n",
    "model.add(layers.Dense(32, activation=activation, kernel_regularizer=getattr(regularizers, regularizer)(regularizer_value), kernel_initializer=initializer))\n",
    "\n",
    "# Output layer\n",
    "model.add(layers.Dense(10, activation='softmax'))\n",
    "\n",
    "utils.run_model(model, modelname, X_train, y_train, X_test, y_test, optimizer, epochs, batch_size, activation, regularizer, regularizer_value, initializer)"
   ]
  },
  {
   "cell_type": "markdown",
   "metadata": {},
   "source": [
    "Again the regulization value is important for the performance of the model."
   ]
  },
  {
   "cell_type": "markdown",
   "metadata": {},
   "source": [
    "## Model 10"
   ]
  },
  {
   "cell_type": "markdown",
   "metadata": {},
   "source": [
    "This model has the same architecture as Model 9, but it uses the sigmoid activation function instead of ReLU, and the initializer is changed to 'glorot\\_normal'.\n"
   ]
  },
  {
   "cell_type": "code",
   "execution_count": 15,
   "metadata": {},
   "outputs": [],
   "source": [
    "modelname = 'model10'\n",
    "\n",
    "# Hyperparameters\n",
    "optimizer = 'adam'\n",
    "epochs = 30\n",
    "batch_size = 128\n",
    "regularizer = \"l2\"\n",
    "regularizer_value = 0.01\n",
    "initializer = 'glorot_normal'\n",
    "activation = 'sigmoid'\n",
    "\n",
    "model = models.Sequential()\n",
    "\n",
    "# Input layer\n",
    "model.add(layers.Flatten(input_shape=(784,)))\n",
    "\n",
    "model.add(layers.Dense(512, activation=activation, kernel_regularizer=getattr(regularizers, regularizer)(regularizer_value), kernel_initializer=initializer))\n",
    "model.add(layers.Dense(256, activation=activation, kernel_regularizer=getattr(regularizers, regularizer)(regularizer_value), kernel_initializer=initializer))\n",
    "model.add(layers.Dense(128, activation=activation, kernel_regularizer=getattr(regularizers, regularizer)(regularizer_value), kernel_initializer=initializer))\n",
    "model.add(layers.Dense(64, activation=activation, kernel_regularizer=getattr(regularizers, regularizer)(regularizer_value), kernel_initializer=initializer))\n",
    "model.add(layers.Dense(32, activation=activation, kernel_regularizer=getattr(regularizers, regularizer)(regularizer_value), kernel_initializer=initializer))\n",
    "model.add(layers.Dense(16, activation=activation, kernel_regularizer=getattr(regularizers, regularizer)(regularizer_value), kernel_initializer=initializer))\n",
    "\n",
    "# Output layer\n",
    "model.add(layers.Dense(10, activation='softmax'))\n",
    "\n",
    "utils.run_model(model, modelname, X_train, y_train, X_test, y_test, optimizer, epochs, batch_size, activation, regularizer, regularizer_value, initializer)"
   ]
  },
  {
   "cell_type": "markdown",
   "metadata": {},
   "source": [
    "## Model 11"
   ]
  },
  {
   "cell_type": "markdown",
   "metadata": {},
   "source": [
    "This model has the same architecture and hyperparameters as Model 10, but the batch size is decreased to 32.\n"
   ]
  },
  {
   "cell_type": "code",
   "execution_count": 16,
   "metadata": {},
   "outputs": [],
   "source": [
    "modelname = 'model11'\n",
    "\n",
    "# Hyperparameters\n",
    "optimizer = 'adam'\n",
    "epochs = 30\n",
    "batch_size = 32\n",
    "regularizer = \"l2\"\n",
    "regularizer_value = 0.01\n",
    "initializer = 'glorot_normal'\n",
    "activation = 'sigmoid'\n",
    "\n",
    "model = models.Sequential()\n",
    "\n",
    "# Input layer\n",
    "model.add(layers.Flatten(input_shape=(784,)))\n",
    "\n",
    "model.add(layers.Dense(512, activation=activation, kernel_regularizer=getattr(regularizers, regularizer)(regularizer_value), kernel_initializer=initializer))\n",
    "model.add(layers.Dense(256, activation=activation, kernel_regularizer=getattr(regularizers, regularizer)(regularizer_value), kernel_initializer=initializer))\n",
    "model.add(layers.Dense(128, activation=activation, kernel_regularizer=getattr(regularizers, regularizer)(regularizer_value), kernel_initializer=initializer))\n",
    "model.add(layers.Dense(64, activation=activation, kernel_regularizer=getattr(regularizers, regularizer)(regularizer_value), kernel_initializer=initializer))\n",
    "model.add(layers.Dense(32, activation=activation, kernel_regularizer=getattr(regularizers, regularizer)(regularizer_value), kernel_initializer=initializer))\n",
    "model.add(layers.Dense(16, activation=activation, kernel_regularizer=getattr(regularizers, regularizer)(regularizer_value), kernel_initializer=initializer))\n",
    "\n",
    "# Output layer\n",
    "model.add(layers.Dense(10, activation='softmax'))\n",
    "\n",
    "utils.run_model(model, modelname, X_train, y_train, X_test, y_test, optimizer, epochs, batch_size, activation, regularizer, regularizer_value, initializer)"
   ]
  },
  {
   "cell_type": "markdown",
   "metadata": {},
   "source": [
    "## Model 12"
   ]
  },
  {
   "cell_type": "markdown",
   "metadata": {},
   "source": [
    "This model uses the RMSprop optimizer instead of Adam.\n"
   ]
  },
  {
   "cell_type": "code",
   "execution_count": 17,
   "metadata": {},
   "outputs": [],
   "source": [
    "modelname = 'model12'\n",
    "\n",
    "# Hyperparameters\n",
    "optimizer = 'rmsprop'\n",
    "epochs = 30\n",
    "batch_size = 32\n",
    "regularizer = \"l2\"\n",
    "regularizer_value = 0.01\n",
    "initializer = 'he_normal'\n",
    "activation = 'relu'\n",
    "\n",
    "model = models.Sequential()\n",
    "\n",
    "# Input layer\n",
    "model.add(layers.Flatten(input_shape=(784,)))\n",
    "\n",
    "model.add(layers.Dense(128, activation=activation, kernel_regularizer=getattr(regularizers, regularizer)(regularizer_value), kernel_initializer=initializer))\n",
    "model.add(layers.Dense(64, activation=activation, kernel_regularizer=getattr(regularizers, regularizer)(regularizer_value), kernel_initializer=initializer))\n",
    "model.add(layers.Dense(32, activation=activation, kernel_regularizer=getattr(regularizers, regularizer)(regularizer_value), kernel_initializer=initializer))\n",
    "model.add(layers.Dense(16, activation=activation, kernel_regularizer=getattr(regularizers, regularizer)(regularizer_value), kernel_initializer=initializer))\n",
    "\n",
    "# Output layer\n",
    "model.add(layers.Dense(10, activation='softmax'))\n",
    "\n",
    "utils.run_model(model, modelname, X_train, y_train, X_test, y_test, optimizer, epochs, batch_size, activation, regularizer, regularizer_value, initializer)"
   ]
  },
  {
   "cell_type": "markdown",
   "metadata": {},
   "source": [
    "## Model 14\n",
    "This model uses the SGD optimizer instead of Adam.\n"
   ]
  },
  {
   "cell_type": "code",
   "execution_count": 18,
   "metadata": {},
   "outputs": [],
   "source": [
    "modelname = 'model14'\n",
    "\n",
    "# Hyperparameters\n",
    "optimizer = 'SGD'\n",
    "epochs = 30\n",
    "batch_size = 32\n",
    "regularizer = \"l2\"\n",
    "regularizer_value = 0.01\n",
    "initializer = 'he_normal'\n",
    "activation = 'relu'\n",
    "\n",
    "model = models.Sequential()\n",
    "\n",
    "# Input layer\n",
    "model.add(layers.Flatten(input_shape=(784,)))\n",
    "\n",
    "model.add(layers.Dense(128, activation=activation, kernel_regularizer=getattr(regularizers, regularizer)(regularizer_value), kernel_initializer=initializer))\n",
    "model.add(layers.Dense(64, activation=activation, kernel_regularizer=getattr(regularizers, regularizer)(regularizer_value), kernel_initializer=initializer))\n",
    "model.add(layers.Dense(32, activation=activation, kernel_regularizer=getattr(regularizers, regularizer)(regularizer_value), kernel_initializer=initializer))\n",
    "model.add(layers.Dense(16, activation=activation, kernel_regularizer=getattr(regularizers, regularizer)(regularizer_value), kernel_initializer=initializer))\n",
    "\n",
    "# Output layer\n",
    "model.add(layers.Dense(10, activation='softmax'))\n",
    "\n",
    "utils.run_model(model, modelname, X_train, y_train, X_test, y_test, optimizer, epochs, batch_size, activation, regularizer, regularizer_value, initializer)"
   ]
  },
  {
   "cell_type": "markdown",
   "metadata": {},
   "source": [
    "## Model 15\n",
    "This model uses the 'zeros' initializer instead of 'glorot\\_normal'.\n"
   ]
  },
  {
   "cell_type": "code",
   "execution_count": 19,
   "metadata": {},
   "outputs": [],
   "source": [
    "modelname = 'model15'\n",
    "\n",
    "# Hyperparameters\n",
    "optimizer = 'rmsprop'\n",
    "epochs = 30\n",
    "batch_size = 32\n",
    "regularizer = \"l2\"\n",
    "regularizer_value = 0.01\n",
    "initializer = 'zeros'\n",
    "activation = 'relu'\n",
    "\n",
    "model = models.Sequential()\n",
    "\n",
    "# Input layer\n",
    "model.add(layers.Flatten(input_shape=(784,)))\n",
    "\n",
    "model.add(layers.Dense(128, activation=activation, kernel_regularizer=getattr(regularizers, regularizer)(regularizer_value), kernel_initializer=initializer))\n",
    "model.add(layers.Dense(64, activation=activation, kernel_regularizer=getattr(regularizers, regularizer)(regularizer_value), kernel_initializer=initializer))\n",
    "model.add(layers.Dense(32, activation=activation, kernel_regularizer=getattr(regularizers, regularizer)(regularizer_value), kernel_initializer=initializer))\n",
    "model.add(layers.Dense(16, activation=activation, kernel_regularizer=getattr(regularizers, regularizer)(regularizer_value), kernel_initializer=initializer))\n",
    "\n",
    "# Output layer\n",
    "model.add(layers.Dense(10, activation='softmax'))\n",
    "\n",
    "utils.run_model(model, modelname, X_train, y_train, X_test, y_test, optimizer, epochs, batch_size, activation, regularizer, regularizer_value, initializer)"
   ]
  },
  {
   "cell_type": "markdown",
   "metadata": {},
   "source": [
    "# Data Augmentation"
   ]
  },
  {
   "cell_type": "code",
   "execution_count": 20,
   "metadata": {},
   "outputs": [],
   "source": [
    "import tensorflow as tf\n",
    "X_train_reshaped = X_train.reshape(-1, 28, 28, 1) # Assuming 28x28 grayscale images\n",
    "\n",
    "# create and configure augmented image generator\n",
    "datagen_train = tf.keras.preprocessing.image.ImageDataGenerator(\n",
    "    width_shift_range = 0.1, # randomly shift images horizontally (10% of total width)\n",
    "    height_shift_range = 0.1, # randomly shift images vertically (10% of total height) \n",
    "    horizontal_flip = True ) # randomly flip images horizontally\n",
    "\n",
    "# fit augmented image generator on data\n",
    "datagen_train.fit(X_train_reshaped)\n",
    "\n",
    "# Generate augmented images \n",
    "augmented_images = next(datagen_train.flow(X_train_reshaped, batch_size=len(X_train_reshaped), shuffle=False))\n",
    "\n",
    "# Concatenate original and augmented data\n",
    "X_train_augmented = np.concatenate((X_train_reshaped, augmented_images))\n",
    "y_train_augmented = np.concatenate((y_train, y_train))  # Duplicate labels for augmented images"
   ]
  },
  {
   "cell_type": "code",
   "execution_count": 21,
   "metadata": {},
   "outputs": [
    {
     "data": {
      "text/plain": [
       "(33600, 784)"
      ]
     },
     "execution_count": 21,
     "metadata": {},
     "output_type": "execute_result"
    }
   ],
   "source": [
    "X_train.shape"
   ]
  },
  {
   "cell_type": "code",
   "execution_count": 22,
   "metadata": {},
   "outputs": [
    {
     "data": {
      "text/plain": [
       "(67200, 784)"
      ]
     },
     "execution_count": 22,
     "metadata": {},
     "output_type": "execute_result"
    }
   ],
   "source": [
    "X_train_augmented = X_train_augmented.reshape(-1, 784)\n",
    "X_train_augmented.shape"
   ]
  },
  {
   "cell_type": "code",
   "execution_count": 23,
   "metadata": {},
   "outputs": [
    {
     "data": {
      "image/png": "[encoded data removed]",
      "text/plain": [
       "<Figure size 1000x500 with 20 Axes>"
      ]
     },
     "metadata": {},
     "output_type": "display_data"
    }
   ],
   "source": [
    "import matplotlib.pyplot as plt\n",
    "# Plot the original and augmented images\n",
    "plt.figure(figsize=(10, 5))\n",
    "for i in range(10):\n",
    "    # Plot original image\n",
    "    plt.subplot(2, 10, i + 1)\n",
    "    plt.imshow(X_train_reshaped[i].reshape(28, 28), cmap='gray')\n",
    "    plt.axis('off')\n",
    "\n",
    "    # Plot augmented image\n",
    "    plt.subplot(2, 10, i + 11)\n",
    "    plt.imshow(augmented_images[i].reshape(28, 28), cmap='gray')\n",
    "    plt.axis('off')\n",
    "\n",
    "plt.show()"
   ]
  },
  {
   "cell_type": "markdown",
   "metadata": {},
   "source": [
    "## Model 1_da\n",
    "This model is the same as Model 9, but it is trained on a dataset augmented with additional images generated by applying random transformations to the original training set.\n"
   ]
  },
  {
   "cell_type": "code",
   "execution_count": 24,
   "metadata": {},
   "outputs": [],
   "source": [
    "modelname = 'model1_da'\n",
    "\n",
    "# Hyperparameters\n",
    "optimizer = 'adam'\n",
    "epochs = 30\n",
    "batch_size = 64\n",
    "regularizer = \"l2\"\n",
    "regularizer_value = 0.1\n",
    "initializer = 'he_normal'\n",
    "activation = 'relu'\n",
    "\n",
    "model = models.Sequential()\n",
    "\n",
    "# Input layer\n",
    "model.add(layers.Flatten(input_shape=(784,)))\n",
    "\n",
    "model.add(layers.Dense(32, activation=activation, kernel_regularizer=getattr(regularizers, regularizer)(regularizer_value), kernel_initializer=initializer))\n",
    "model.add(layers.Dense(32, activation=activation, kernel_regularizer=getattr(regularizers, regularizer)(regularizer_value), kernel_initializer=initializer))\n",
    "model.add(layers.Dense(32, activation=activation, kernel_regularizer=getattr(regularizers, regularizer)(regularizer_value), kernel_initializer=initializer))\n",
    "model.add(layers.Dense(32, activation=activation, kernel_regularizer=getattr(regularizers, regularizer)(regularizer_value), kernel_initializer=initializer))\n",
    "model.add(layers.Dense(32, activation=activation, kernel_regularizer=getattr(regularizers, regularizer)(regularizer_value), kernel_initializer=initializer))\n",
    "model.add(layers.Dense(32, activation=activation, kernel_regularizer=getattr(regularizers, regularizer)(regularizer_value), kernel_initializer=initializer))\n",
    "\n",
    "# Output layer\n",
    "model.add(layers.Dense(10, activation='softmax'))\n",
    "\n",
    "utils.run_model(model, modelname, X_train_augmented, y_train_augmented, X_test, y_test, optimizer, epochs, batch_size, activation, regularizer, regularizer_value, initializer)"
   ]
  },
  {
   "cell_type": "markdown",
   "metadata": {},
   "source": [
    "## Model 2_da\n",
    "This model is the same as Model 1, but it is trained on a dataset augmented with additional images generated by applying random transformations to the original training set.\n"
   ]
  },
  {
   "cell_type": "code",
   "execution_count": 25,
   "metadata": {},
   "outputs": [],
   "source": [
    "modelname = 'model2_da'\n",
    "\n",
    "# Hyperparameters\n",
    "optimizer = 'adam'\n",
    "epochs = 30\n",
    "batch_size = 64\n",
    "regularizer = \"l2\"\n",
    "regularizer_value = 0.01\n",
    "initializer = 'he_normal'\n",
    "activation = 'relu'\n",
    "\n",
    "model = models.Sequential()\n",
    "\n",
    "# Input layer\n",
    "model.add(layers.Flatten(input_shape=(784,)))\n",
    "\n",
    "model.add(layers.Dense(256, activation=activation, kernel_regularizer=getattr(regularizers, regularizer)(regularizer_value), kernel_initializer=initializer))\n",
    "model.add(layers.Dense(128, activation=activation, kernel_regularizer=getattr(regularizers, regularizer)(regularizer_value), kernel_initializer=initializer))\n",
    "model.add(layers.Dense(64, activation=activation, kernel_regularizer=getattr(regularizers, regularizer)(regularizer_value), kernel_initializer=initializer))\n",
    "model.add(layers.Dense(32, activation=activation, kernel_regularizer=getattr(regularizers, regularizer)(regularizer_value), kernel_initializer=initializer))\n",
    "model.add(layers.Dense(16, activation=activation, kernel_regularizer=getattr(regularizers, regularizer)(regularizer_value), kernel_initializer=initializer))\n",
    "\n",
    "# Output layer\n",
    "model.add(layers.Dense(10, activation='softmax'))\n",
    "\n",
    "utils.run_model(model, modelname, X_train_augmented, y_train_augmented, X_test, y_test, optimizer, epochs, batch_size, activation, regularizer, regularizer_value, initializer)"
   ]
  }
 ],
 "metadata": {
  "kernelspec": {
   "display_name": "base",
   "language": "python",
   "name": "python3"
  },
  "language_info": {
   "codemirror_mode": {
    "name": "ipython",
    "version": 3
   },
   "file_extension": ".py",
   "mimetype": "text/x-python",
   "name": "python",
   "nbconvert_exporter": "python",
   "pygments_lexer": "ipython3",
   "version": "3.11.7"
  }
 },
 "nbformat": 4,
 "nbformat_minor": 2
}
